{
 "cells": [
  {
   "cell_type": "code",
   "execution_count": 90,
   "metadata": {
    "collapsed": true,
    "ExecuteTime": {
     "end_time": "2023-08-22T20:53:11.468775600Z",
     "start_time": "2023-08-22T20:53:11.260660700Z"
    }
   },
   "outputs": [],
   "source": [
    "from selenium import webdriver\n",
    "from bs4 import BeautifulSoup\n",
    "import yfinance as yf\n",
    "import pandas as pd\n",
    "\n",
    "import mplfinance as mpf\n",
    "\n",
    "\n",
    "\n"
   ]
  },
  {
   "cell_type": "code",
   "execution_count": 117,
   "outputs": [
    {
     "data": {
      "text/plain": "                                Open       High        Low      Close  Volume  \\\nDatetime                                                                        \n2023-08-14 09:30:00-04:00  19.750000  19.750000  19.629999  19.680799  128454   \n2023-08-14 09:31:00-04:00  19.680599  19.681000  19.520000  19.610001   33156   \n2023-08-14 09:32:00-04:00  19.620001  19.660000  19.525000  19.629900   24423   \n2023-08-14 09:33:00-04:00  19.600000  19.690001  19.590000  19.690001   24362   \n2023-08-14 09:34:00-04:00  19.680000  19.700001  19.650200  19.695000   15233   \n\n                           Dividends  Stock Splits  \nDatetime                                            \n2023-08-14 09:30:00-04:00        0.0           0.0  \n2023-08-14 09:31:00-04:00        0.0           0.0  \n2023-08-14 09:32:00-04:00        0.0           0.0  \n2023-08-14 09:33:00-04:00        0.0           0.0  \n2023-08-14 09:34:00-04:00        0.0           0.0  ",
      "text/html": "<div>\n<style scoped>\n    .dataframe tbody tr th:only-of-type {\n        vertical-align: middle;\n    }\n\n    .dataframe tbody tr th {\n        vertical-align: top;\n    }\n\n    .dataframe thead th {\n        text-align: right;\n    }\n</style>\n<table border=\"1\" class=\"dataframe\">\n  <thead>\n    <tr style=\"text-align: right;\">\n      <th></th>\n      <th>Open</th>\n      <th>High</th>\n      <th>Low</th>\n      <th>Close</th>\n      <th>Volume</th>\n      <th>Dividends</th>\n      <th>Stock Splits</th>\n    </tr>\n    <tr>\n      <th>Datetime</th>\n      <th></th>\n      <th></th>\n      <th></th>\n      <th></th>\n      <th></th>\n      <th></th>\n      <th></th>\n    </tr>\n  </thead>\n  <tbody>\n    <tr>\n      <th>2023-08-14 09:30:00-04:00</th>\n      <td>19.750000</td>\n      <td>19.750000</td>\n      <td>19.629999</td>\n      <td>19.680799</td>\n      <td>128454</td>\n      <td>0.0</td>\n      <td>0.0</td>\n    </tr>\n    <tr>\n      <th>2023-08-14 09:31:00-04:00</th>\n      <td>19.680599</td>\n      <td>19.681000</td>\n      <td>19.520000</td>\n      <td>19.610001</td>\n      <td>33156</td>\n      <td>0.0</td>\n      <td>0.0</td>\n    </tr>\n    <tr>\n      <th>2023-08-14 09:32:00-04:00</th>\n      <td>19.620001</td>\n      <td>19.660000</td>\n      <td>19.525000</td>\n      <td>19.629900</td>\n      <td>24423</td>\n      <td>0.0</td>\n      <td>0.0</td>\n    </tr>\n    <tr>\n      <th>2023-08-14 09:33:00-04:00</th>\n      <td>19.600000</td>\n      <td>19.690001</td>\n      <td>19.590000</td>\n      <td>19.690001</td>\n      <td>24362</td>\n      <td>0.0</td>\n      <td>0.0</td>\n    </tr>\n    <tr>\n      <th>2023-08-14 09:34:00-04:00</th>\n      <td>19.680000</td>\n      <td>19.700001</td>\n      <td>19.650200</td>\n      <td>19.695000</td>\n      <td>15233</td>\n      <td>0.0</td>\n      <td>0.0</td>\n    </tr>\n  </tbody>\n</table>\n</div>"
     },
     "execution_count": 117,
     "metadata": {},
     "output_type": "execute_result"
    }
   ],
   "source": [
    "ticker_symbol = \"GME\"\n",
    "tesla_stock = yf.Ticker(ticker_symbol)\n",
    "historical_data = tesla_stock.history(period=\"7d\",interval = \"1m\")\n",
    "historical_data.head(5)"
   ],
   "metadata": {
    "collapsed": false,
    "ExecuteTime": {
     "end_time": "2023-08-22T21:01:48.948147300Z",
     "start_time": "2023-08-22T21:01:48.375309500Z"
    }
   }
  },
  {
   "cell_type": "code",
   "execution_count": 106,
   "outputs": [],
   "source": [
    "driver = webdriver.Chrome()\n",
    "driver.get(\"https://www.macrotrends.net/stocks/charts/GME/gamestop/revenue\")\n",
    "\n",
    "html_data = driver.page_source\n",
    "\n",
    "driver.quit()"
   ],
   "metadata": {
    "collapsed": false,
    "ExecuteTime": {
     "end_time": "2023-08-22T21:00:00.331477400Z",
     "start_time": "2023-08-22T20:59:50.167046300Z"
    }
   }
  },
  {
   "cell_type": "code",
   "execution_count": 107,
   "outputs": [],
   "source": [
    "soup = BeautifulSoup(html_data, \"html.parser\")"
   ],
   "metadata": {
    "collapsed": false,
    "ExecuteTime": {
     "end_time": "2023-08-22T21:00:03.383633200Z",
     "start_time": "2023-08-22T21:00:03.301120900Z"
    }
   }
  },
  {
   "cell_type": "code",
   "execution_count": 108,
   "outputs": [],
   "source": [
    "soup = BeautifulSoup(html_data, \"html.parser\")"
   ],
   "metadata": {
    "collapsed": false,
    "ExecuteTime": {
     "end_time": "2023-08-22T21:00:04.064085600Z",
     "start_time": "2023-08-22T21:00:04.049400900Z"
    }
   }
  },
  {
   "cell_type": "code",
   "execution_count": 109,
   "outputs": [],
   "source": [
    "revenue_table = soup.find(\"table\", class_=\"historical_data_table table\")"
   ],
   "metadata": {
    "collapsed": false,
    "ExecuteTime": {
     "end_time": "2023-08-22T21:00:11.610206900Z",
     "start_time": "2023-08-22T21:00:11.587964Z"
    }
   }
  },
  {
   "cell_type": "code",
   "execution_count": 110,
   "outputs": [],
   "source": [
    "table_rows = revenue_table.find_all(\"tr\")"
   ],
   "metadata": {
    "collapsed": false,
    "ExecuteTime": {
     "end_time": "2023-08-22T21:00:12.505484800Z",
     "start_time": "2023-08-22T21:00:12.424199400Z"
    }
   }
  },
  {
   "cell_type": "code",
   "execution_count": 111,
   "outputs": [],
   "source": [
    "header = [\"year\",\"revenue\"]"
   ],
   "metadata": {
    "collapsed": false,
    "ExecuteTime": {
     "end_time": "2023-08-22T21:00:14.064565800Z",
     "start_time": "2023-08-22T21:00:14.051460600Z"
    }
   }
  },
  {
   "cell_type": "code",
   "execution_count": 112,
   "outputs": [],
   "source": [
    "data = []\n",
    "for row in table_rows[1:]:\n",
    "    row_cells = row.find_all(\"td\")\n",
    "    row_data = [cell.get_text(strip=True) for cell in row_cells]\n",
    "    data.append(row_data)"
   ],
   "metadata": {
    "collapsed": false,
    "ExecuteTime": {
     "end_time": "2023-08-22T21:00:15.140391300Z",
     "start_time": "2023-08-22T21:00:15.121783400Z"
    }
   }
  },
  {
   "cell_type": "code",
   "execution_count": 113,
   "outputs": [],
   "source": [
    "df = pd.DataFrame(data, columns=header)"
   ],
   "metadata": {
    "collapsed": false,
    "ExecuteTime": {
     "end_time": "2023-08-22T21:00:18.568517400Z",
     "start_time": "2023-08-22T21:00:18.536944100Z"
    }
   }
  },
  {
   "cell_type": "code",
   "execution_count": 114,
   "outputs": [
    {
     "data": {
      "text/plain": "['year', 'revenue']"
     },
     "execution_count": 114,
     "metadata": {},
     "output_type": "execute_result"
    }
   ],
   "source": [
    "header"
   ],
   "metadata": {
    "collapsed": false,
    "ExecuteTime": {
     "end_time": "2023-08-22T21:00:20.121919500Z",
     "start_time": "2023-08-22T21:00:20.095297300Z"
    }
   }
  },
  {
   "cell_type": "code",
   "execution_count": 115,
   "outputs": [
    {
     "data": {
      "text/plain": "    year revenue\n0   2023  $5,927\n1   2022  $6,011\n2   2021  $5,090\n3   2020  $6,466\n4   2019  $8,285\n5   2018  $8,547\n6   2017  $7,965\n7   2016  $9,364\n8   2015  $9,296\n9   2014  $9,040\n10  2013  $8,887\n11  2012  $9,551\n12  2011  $9,474\n13  2010  $9,078\n14  2009  $8,806",
      "text/html": "<div>\n<style scoped>\n    .dataframe tbody tr th:only-of-type {\n        vertical-align: middle;\n    }\n\n    .dataframe tbody tr th {\n        vertical-align: top;\n    }\n\n    .dataframe thead th {\n        text-align: right;\n    }\n</style>\n<table border=\"1\" class=\"dataframe\">\n  <thead>\n    <tr style=\"text-align: right;\">\n      <th></th>\n      <th>year</th>\n      <th>revenue</th>\n    </tr>\n  </thead>\n  <tbody>\n    <tr>\n      <th>0</th>\n      <td>2023</td>\n      <td>$5,927</td>\n    </tr>\n    <tr>\n      <th>1</th>\n      <td>2022</td>\n      <td>$6,011</td>\n    </tr>\n    <tr>\n      <th>2</th>\n      <td>2021</td>\n      <td>$5,090</td>\n    </tr>\n    <tr>\n      <th>3</th>\n      <td>2020</td>\n      <td>$6,466</td>\n    </tr>\n    <tr>\n      <th>4</th>\n      <td>2019</td>\n      <td>$8,285</td>\n    </tr>\n    <tr>\n      <th>5</th>\n      <td>2018</td>\n      <td>$8,547</td>\n    </tr>\n    <tr>\n      <th>6</th>\n      <td>2017</td>\n      <td>$7,965</td>\n    </tr>\n    <tr>\n      <th>7</th>\n      <td>2016</td>\n      <td>$9,364</td>\n    </tr>\n    <tr>\n      <th>8</th>\n      <td>2015</td>\n      <td>$9,296</td>\n    </tr>\n    <tr>\n      <th>9</th>\n      <td>2014</td>\n      <td>$9,040</td>\n    </tr>\n    <tr>\n      <th>10</th>\n      <td>2013</td>\n      <td>$8,887</td>\n    </tr>\n    <tr>\n      <th>11</th>\n      <td>2012</td>\n      <td>$9,551</td>\n    </tr>\n    <tr>\n      <th>12</th>\n      <td>2011</td>\n      <td>$9,474</td>\n    </tr>\n    <tr>\n      <th>13</th>\n      <td>2010</td>\n      <td>$9,078</td>\n    </tr>\n    <tr>\n      <th>14</th>\n      <td>2009</td>\n      <td>$8,806</td>\n    </tr>\n  </tbody>\n</table>\n</div>"
     },
     "execution_count": 115,
     "metadata": {},
     "output_type": "execute_result"
    }
   ],
   "source": [
    "df"
   ],
   "metadata": {
    "collapsed": false,
    "ExecuteTime": {
     "end_time": "2023-08-22T21:00:21.695282900Z",
     "start_time": "2023-08-22T21:00:21.665434400Z"
    }
   }
  },
  {
   "cell_type": "code",
   "execution_count": 118,
   "outputs": [
    {
     "data": {
      "text/plain": "<Figure size 800x575 with 2 Axes>",
      "image/png": "[encoded data removed]"
     },
     "metadata": {},
     "output_type": "display_data"
    }
   ],
   "source": [
    "mpf.plot(historical_data.head(100), type=\"candle\", style=\"yahoo\", title=\"Game Stop Candlestick Chart (Last 100 minutes)\")"
   ],
   "metadata": {
    "collapsed": false,
    "ExecuteTime": {
     "end_time": "2023-08-22T21:02:01.517970200Z",
     "start_time": "2023-08-22T21:02:01.318374700Z"
    }
   }
  },
  {
   "cell_type": "code",
   "execution_count": null,
   "outputs": [],
   "source": [],
   "metadata": {
    "collapsed": false
   }
  }
 ],
 "metadata": {
  "kernelspec": {
   "display_name": "Python 3",
   "language": "python",
   "name": "python3"
  },
  "language_info": {
   "codemirror_mode": {
    "name": "ipython",
    "version": 2
   },
   "file_extension": ".py",
   "mimetype": "text/x-python",
   "name": "python",
   "nbconvert_exporter": "python",
   "pygments_lexer": "ipython2",
   "version": "2.7.6"
  }
 },
 "nbformat": 4,
 "nbformat_minor": 0
}
